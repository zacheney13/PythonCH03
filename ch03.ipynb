{
 "cells": [
  {
   "cell_type": "markdown",
   "metadata": {},
   "source": [
    "# <p style=\"font-family: Arial; font-size:1.4em;color:red;\"> Chapter 3. Decision Structures and Boolean Logic </p>\n",
    "<li> 3.1 The if Statement </li>\n",
    "<li> 3.2 The if-else Statement </li>\n",
    "<li> 3.3 Comparing Strings </li>\n",
    "<li> 3.4 Nested Decision Structures and the if-elif-else Statement </li>\n",
    "<li> 3.5 Logical Operators </li>\n",
    "<li> 3.6 Boolean Variables </li>"
   ]
  },
  {
   "cell_type": "markdown",
   "metadata": {},
   "source": [
    "***\n",
    "# <p style=\"font-family: Arial; font-size:1.4em;color:red;\"> 1. Basic If statement </p>"
   ]
  },
  {
   "cell_type": "markdown",
   "metadata": {},
   "source": [
    "\n",
    "### <a href=\"https://docs.python.org/3/reference/compound_stmts.html#the-if-statement\"> Python Document \n",
    "<img src =\"https://p76.f0.n0.cdn.getcloudapp.com/items/RBuymyQx/5b9e398d-9339-47e9-b7cc-3de7e83dee6f.jpg?v=b1c31360e564f178e39a3d7373b6979b\"> </a>"
   ]
  },
  {
   "cell_type": "markdown",
   "metadata": {},
   "source": [
    "### Boolean Expression and Relational Operators\n",
    "\n",
    "<img src=\"https://p76.f0.n0.cdn.getcloudapp.com/items/YEuBkB7B/d8fe2712-76cc-4478-bd79-7c9b8d8f5b4d.jpg?v=b1eec79ab236a39691d7f4df6a371842\">"
   ]
  },
  {
   "cell_type": "markdown",
   "metadata": {},
   "source": [
    "#### <p style=\"font-family: Arial; font-size:1.4em; background-color: yellow; color:black;\"> Problem #1.0 </p>\n",
    "Run the below code cell and figure out the basic usage of if-statement \n",
    "<br>\n"
   ]
  },
  {
   "cell_type": "code",
   "execution_count": 1,
   "metadata": {},
   "outputs": [
    {
     "name": "stdout",
     "output_type": "stream",
     "text": [
      "The number 12 is greater than 0\n"
     ]
    }
   ],
   "source": [
    "number = int(input('Enter the number'))\n",
    "\n",
    "if number > 0:\n",
    "    print (f'The number {number} is greater than 0')"
   ]
  },
  {
   "cell_type": "code",
   "execution_count": 2,
   "metadata": {},
   "outputs": [],
   "source": [
    "if number < 0:\n",
    "    print (f'The number {number} is less than 0')"
   ]
  },
  {
   "cell_type": "code",
   "execution_count": 3,
   "metadata": {},
   "outputs": [
    {
     "name": "stdout",
     "output_type": "stream",
     "text": [
      " The score  83 is less than or equal to 90\n"
     ]
    }
   ],
   "source": [
    "x = input(\"Enter your score\")\n",
    "\n",
    "if int(x) > 90:\n",
    "\tprint (\"The score \", x ,  \" is great than 90\")\n",
    "else:\n",
    "\tprint (\" The score \", x,  \"is less than or equal to 90\")\n"
   ]
  },
  {
   "cell_type": "code",
   "execution_count": 4,
   "metadata": {},
   "outputs": [
    {
     "name": "stdout",
     "output_type": "stream",
     "text": [
      "The grade : B\n"
     ]
    }
   ],
   "source": [
    "score = int(input('Enter your score'))\n",
    "if score > 90:\n",
    "\tprint (\"The grade : A\")\n",
    "else:\n",
    "\tif score > 80 :   # (score < 90 ) and ( score >80)\n",
    "\t\tprint (\"The grade : B\")\n",
    "\telif score > 70:   # (score < 80 ) and ( score >70)\n",
    "\t\tprint (\"The grade : C\")\n"
   ]
  },
  {
   "cell_type": "markdown",
   "metadata": {},
   "source": [
    "#### <p style=\"font-family: Arial; font-size:1.4em; background-color: yellow; color:black;\"> Problem #1.1 </p>\n",
    "1. Input a number\n",
    "2. Decide whether it is even or odd number\n",
    "3. Print the result ( Even or Odd)\n",
    "<br>\n"
   ]
  },
  {
   "cell_type": "code",
   "execution_count": 5,
   "metadata": {},
   "outputs": [
    {
     "name": "stdout",
     "output_type": "stream",
     "text": [
      "The number 13 is odd number\n"
     ]
    }
   ],
   "source": [
    "number = int(input('Enter a number'))\n",
    "if number % 2 == 0:\n",
    "    print (f'The number {number} is even number')\n",
    "else:\n",
    "    print (f'The number {number} is odd number')"
   ]
  },
  {
   "cell_type": "markdown",
   "metadata": {},
   "source": [
    "#### <p style=\"font-family: Arial; font-size:1.4em; background-color: yellow; color:black;\"> Problem #1.2 </p>\n",
    "1. Input a number\n",
    "2. Decide whether a number is less than or equal to 100 \n",
    "3. Print the result ( number is less than or equal to 100 or not) \n",
    "<br>\n"
   ]
  },
  {
   "cell_type": "code",
   "execution_count": 6,
   "metadata": {},
   "outputs": [
    {
     "name": "stdout",
     "output_type": "stream",
     "text": [
      "465 is not lesss than or equal to 100\n"
     ]
    }
   ],
   "source": [
    "number = int(input('Enter a number'))\n",
    "if number <= 100:\n",
    "    print(f'{number} is less than or equal to 100')\n",
    "else: print(f'{number} is not lesss than or equal to 100')\n",
    "# Complete the code"
   ]
  },
  {
   "cell_type": "markdown",
   "metadata": {},
   "source": [
    "#### <p style=\"font-family: Arial; font-size:1.4em; background-color: yellow; color:black;\"> Problem #1.3 </p>\n",
    "1. Input a first name\n",
    "2. Decide whether the name starts with 'A' \n",
    "3. Print the result ( True or False ) \n",
    "<br>\n"
   ]
  },
  {
   "cell_type": "code",
   "execution_count": 8,
   "metadata": {},
   "outputs": [
    {
     "name": "stdout",
     "output_type": "stream",
     "text": [
      "True\n"
     ]
    }
   ],
   "source": [
    "name = input('Enter a name')\n",
    "\n",
    "if name.startswith('A'): # complete the code\n",
    "    result = True\n",
    "else: \n",
    "    result = False\n",
    "print(result)\n",
    "    "
   ]
  },
  {
   "cell_type": "markdown",
   "metadata": {},
   "source": [
    "#### <p style=\"font-family: Arial; font-size:1.4em; background-color: yellow; color:black;\"> Problem #1.4 </p>\n",
    "1. Set two floating number values to the variables, like\n",
    "> val1 = 12.34; val2 = 12.34000000000000001 \n",
    "2. Decide whether two values are same\n",
    "3. Print the result ( True or False ) \n",
    "<br>\n"
   ]
  },
  {
   "cell_type": "code",
   "execution_count": 9,
   "metadata": {},
   "outputs": [
    {
     "name": "stdout",
     "output_type": "stream",
     "text": [
      "Two value are same\n"
     ]
    }
   ],
   "source": [
    "val1 = 12.34; val2 = 12.340000000000000001\n",
    "\n",
    "if val1 == val2:\n",
    "    print ('Two value are same')"
   ]
  },
  {
   "cell_type": "code",
   "execution_count": 10,
   "metadata": {},
   "outputs": [],
   "source": [
    "val1 = 12.34; val2 = 12.340000000001\n",
    "\n",
    "if val1 == val2:\n",
    "    print ('Two value are same')"
   ]
  },
  {
   "cell_type": "markdown",
   "metadata": {},
   "source": [
    "#### <p style=\"font-family: Arial; font-size:1.4em; background-color: yellow; color:black;\"> Problem #1.5 </p>\n",
    "1. Input two string values \n",
    "> strval1 = input('Enter a word') \n",
    "> strval2 = input('Enter a word') \n",
    "2. Decide which input value is greater in alphabetical order \n",
    "3. Print the greater word  \n",
    "<br>\n"
   ]
  },
  {
   "cell_type": "code",
   "execution_count": 12,
   "metadata": {},
   "outputs": [
    {
     "name": "stdout",
     "output_type": "stream",
     "text": [
      "mango\n"
     ]
    }
   ],
   "source": [
    "strval1 = input('Enter a word')\n",
    "strval2 = input('Enter a word')\n",
    "\n",
    "# complete the code\n",
    "if strval1 > strval2:\n",
    "    print(strval1)\n",
    "else: \n",
    "    print(strval2)"
   ]
  },
  {
   "cell_type": "markdown",
   "metadata": {},
   "source": [
    "#### <p style=\"font-family: Arial; font-size:1.4em; background-color: yellow; color:black;\"> Problem #1.6 </p>\n",
    "1. Input two string values \n",
    "> strval1 = input('Enter a word') \n",
    "> strval2 = input('Enter a word') \n",
    "2. Determine which input value is longer in length.\n",
    "3. Print the longer word  \n",
    "<br>\n",
    "** Use the library <font color='red'> len( ) </font>\n"
   ]
  },
  {
   "cell_type": "code",
   "execution_count": 13,
   "metadata": {},
   "outputs": [
    {
     "name": "stdout",
     "output_type": "stream",
     "text": [
      "Pineapple\n"
     ]
    }
   ],
   "source": [
    "strval1 = input('Enter a word')\n",
    "strval2 = input('Enter a word')\n",
    "\n",
    "# complete the code\n",
    "if len(strval1) > len(strval2):\n",
    "    print(strval1)\n",
    "else: \n",
    "    print(strval2)"
   ]
  },
  {
   "cell_type": "markdown",
   "metadata": {},
   "source": [
    "## Don't forget to <font color='red'> **\"commit\"** </font> your work or <font color='red'> **\"save\"** </font> in Google Colab\n",
    "## before moving to the next section."
   ]
  },
  {
   "cell_type": "markdown",
   "metadata": {},
   "source": [
    "***\n",
    "# <p style=\"font-family: Arial; font-size:1.4em;color:red;\"> 2. if-elif-else statement </p>"
   ]
  },
  {
   "cell_type": "markdown",
   "metadata": {},
   "source": [
    "<a href=\"https://docs.python.org/3/tutorial/controlflow.html#if-statements\"> <img src=\"https://p76.f0.n0.cdn.getcloudapp.com/items/4guZrZo9/7293141a-5f3f-44bc-9e97-4586b89a63dc.jpg?v=09b11b0fee8688bd799c1f90a09f723f\"> </a>"
   ]
  },
  {
   "cell_type": "markdown",
   "metadata": {},
   "source": [
    "#### <p style=\"font-family: Arial; font-size:1.4em; background-color: yellow; color:black;\"> Problem #2.0 </p>\n",
    "Run the below code cell and figure out the basic usage of if-statement \n",
    "<br>\n"
   ]
  },
  {
   "cell_type": "code",
   "execution_count": null,
   "metadata": {},
   "outputs": [],
   "source": [
    "# Take one user input \n",
    "# if it is even number, print \n",
    "# otherwise, do nothing\n",
    "\n",
    "score = int(input('Enter your score'))\n",
    "if score > 90:\n",
    "\tprint (\"The grade : A\")\n",
    "elif score > 80 :   # (score < 90 ) and ( score >80)\n",
    "\tprint (\"The grade : B\")\n",
    "elif score > 70:   # (score < 80 ) and ( score >70)\n",
    "\tprint (\"The grade : C\")\n"
   ]
  },
  {
   "cell_type": "code",
   "execution_count": null,
   "metadata": {},
   "outputs": [],
   "source": [
    "x = int(input(\"Enter your score\"))\n",
    "\n",
    "if x > 90:\n",
    "\tprint (\"The score \", x ,  \" is great than 90\")\n",
    "elif x > 80:\n",
    "\tprint (\"The score \", x ,  \" is great than 80\")\n",
    "else:\n",
    "\tprint (\" The score \", x,  \"is less than or equal to 80\")\n"
   ]
  },
  {
   "cell_type": "markdown",
   "metadata": {},
   "source": [
    "#### <p style=\"font-family: Arial; font-size:1.4em; background-color: yellow; color:black;\"> Problem #2.1 </p>\n",
    "1. Input a score\n",
    "2. Determine the grade base on the following policy\n",
    "- A if greater than 90\n",
    "- B if greater than 80 and less than or equal 90\n",
    "- C if greater than 70 and less than or equal 80\n",
    "- D if greater than 60 and less than or equal 70\n",
    "- F if less than 60 \n",
    "3. Print the final grade\n",
    "<br>\n"
   ]
  },
  {
   "cell_type": "code",
   "execution_count": null,
   "metadata": {},
   "outputs": [],
   "source": [
    "score = int(input('Enter a score'))\n",
    "\n",
    "# complete the code\n"
   ]
  },
  {
   "cell_type": "markdown",
   "metadata": {},
   "source": [
    "<br>\n",
    "#### <p style=\"font-family: Arial; font-size:1.4em; background-color: yellow; color:black;\"> Problem #2.2 </p>\n",
    "\n",
    "1. Input a number\n",
    "2. Decide whether it is even ,odd number or zero\n",
    "3. Print the result ( Even, Odd, or Zero)\n",
    "\n",
    "> Use the if-elif-else statement\n"
   ]
  },
  {
   "cell_type": "code",
   "execution_count": null,
   "metadata": {},
   "outputs": [],
   "source": [
    "number = int(input('Enter a number'))\n",
    "\n",
    "# complete the code\n"
   ]
  },
  {
   "cell_type": "markdown",
   "metadata": {},
   "source": [
    "#### <p style=\"font-family: Arial; font-size:1.4em; background-color: yellow; color:black;\"> Problem #2.3 </p>\n",
    "\n",
    "1. Input a number\n",
    "2. Decide whether it is  \n",
    ">  Case 1: number < 0 <br>\n",
    ">  Case 2: 0 <= number < 100 or <br>\n",
    ">  Case 3: number > 100\n",
    "3. Print the result ( Case 1, 2, or 3) \n",
    "\n",
    "> Use the if-elif-else statement\n",
    "\n",
    "<font color='red'> ** Do not use the \"Logical Opertors\" (and, or, not). Use only if-elif-else with single condition. \n",
    "<br> No need to use the condition like 0 <= number < 100 when you use \"elif\" statement ** </font>\n"
   ]
  },
  {
   "cell_type": "code",
   "execution_count": null,
   "metadata": {},
   "outputs": [],
   "source": [
    "number = int(input('Enter a number'))\n",
    "\n",
    "# complete the code"
   ]
  },
  {
   "cell_type": "markdown",
   "metadata": {},
   "source": [
    "## Don't forget to <font color='red'> **\"commit\"** </font> your work or <font color='red'> **\"save\"** </font> in Google Colab\n",
    "## before moving to the next section."
   ]
  },
  {
   "cell_type": "markdown",
   "metadata": {},
   "source": [
    "***\n",
    "# <p style=\"font-family: Arial; font-size:1.4em;color:red;\"> 3. Nested if statement </p>"
   ]
  },
  {
   "cell_type": "markdown",
   "metadata": {},
   "source": [
    "<img src=\"https://nimbus-screenshots.s3.amazonaws.com/s/40f9cb96e28bea9192302328e49fd175.png\" width=720>"
   ]
  },
  {
   "cell_type": "code",
   "execution_count": 40,
   "metadata": {},
   "outputs": [
    {
     "name": "stdout",
     "output_type": "stream",
     "text": [
      "100  is greater thatn 100\n"
     ]
    }
   ],
   "source": [
    "\n",
    "usernum = int(input(\"Enter your number\"))\n",
    "\n",
    "if usernum < 50:\n",
    "\tprint (usernum, \" is less than 50\")\n",
    "else:\n",
    "\tif usernum < 100:\n",
    "\t\tprint (usernum, \" is greater than or equal to 50 and less than 100\")\n",
    "\telse:\n",
    "\t\tprint (usernum, \" is greater than or equal to 100\")\n",
    "\t\t"
   ]
  },
  {
   "cell_type": "code",
   "execution_count": 39,
   "metadata": {},
   "outputs": [
    {
     "name": "stdout",
     "output_type": "stream",
     "text": [
      "8\n",
      "8  is even number\n"
     ]
    }
   ],
   "source": [
    "import random\n",
    "\n",
    "number = random.randint(0, 100)\n",
    "print (number)\n",
    "\n",
    "if (number % 2 == 0):\n",
    "\tprint ( number, \" is even number\")\n",
    "else:\n",
    "\tprint ( number, \" is odd number\")"
   ]
  },
  {
   "cell_type": "markdown",
   "metadata": {},
   "source": [
    "#### <p style=\"font-family: Arial; font-size:1.4em; background-color: yellow; color:black;\"> Problem #3.1 </p>\n",
    "\n",
    "1. Make the if statement for the below flowchart \n",
    "> Use the \"nested if\" statement. Do not use \"elif\" \n",
    "\n",
    "<font color='red'> ** Do not use the \"elif\" if-elif-else strucutre. Use the Nested if statement \n",
    "</font>\n",
    "![Nested If statement Flow Chart](./FC31.png)\n"
   ]
  },
  {
   "cell_type": "code",
   "execution_count": null,
   "metadata": {},
   "outputs": [],
   "source": [
    "number = int(input('Enter a number'))\n",
    "\n",
    "if number < 0:\n",
    "    print (f'Number {number} is negative')\n",
    "else:\n",
    "    if number < 100:\n",
    "        print (f'Number {number} is greater than or equal to 0 and less than 100')\n",
    "    else:\n",
    "        print (f'Number {number} is greater than 100')\n",
    "        "
   ]
  },
  {
   "cell_type": "markdown",
   "metadata": {},
   "source": [
    "#### <p style=\"font-family: Arial; font-size:1.4em; background-color: yellow; color:black;\"> Problem #3.2 </p>\n",
    "\n",
    "1. Input a number \n",
    "2. Decide the range to which belongs\n",
    ">  Range 1: less than 0  <br>\n",
    ">  Range 2: 0 <= number < 100 <br>\n",
    ">  Range 3: number >= 100 <br> \n",
    "3. Print the result ( Range 1, 2, or 3) \n",
    "\n",
    "> Use the Nested if statement\n",
    "\n",
    "<font color='red'> ** Do not use the \"Logical Opertors\" (and, or, not) and elif statement. Use only Nested if. \n",
    "</font>\n"
   ]
  },
  {
   "cell_type": "code",
   "execution_count": null,
   "metadata": {},
   "outputs": [],
   "source": [
    "number = int(input('Enter a number'))\n",
    "\n",
    "if number < 0:\n",
    "    range = 1\n",
    "else:\n",
    "    if # complete the code\n",
    "        range = 2"
   ]
  },
  {
   "cell_type": "markdown",
   "metadata": {},
   "source": [
    "#### <p style=\"font-family: Arial; font-size:1.4em; background-color: yellow; color:black;\"> Problem #3.3 </p>\n",
    "\n",
    "1. Input three numbers\n",
    "2. Decide the smallest number \n",
    "3. Print the smallest number \n",
    "\n",
    "> Use the Nested if statement. Implement the same code as the flow chart <br> \n",
    "> The purpose of this code is to practice \"NESTED IF\" <br>\n",
    "<font color='red'> ** Do not use the \"Logical Opertors\" (and, or, not) and elif statement. Use only Nested if. \n",
    "</font>\n",
    "\n",
    "![Flow Chart: Find the min value](FC33.png)"
   ]
  },
  {
   "cell_type": "code",
   "execution_count": null,
   "metadata": {},
   "outputs": [],
   "source": [
    "num1 = int(input('Enter a number '))\n",
    "num2 = int(input('Enter a number '))\n",
    "num3 = int(input('Enter a number '))\n",
    "\n",
    "if num1 < num2:\n",
    "    # Complete the code. Only use Nested-If structure. If - else\n",
    "    # No and/or \n",
    "    # No elif\n",
    "    "
   ]
  },
  {
   "cell_type": "markdown",
   "metadata": {},
   "source": [
    "## Don't forget to <font color='red'> **\"commit\"** </font> your work or <font color='red'> **\"save\"** </font> in Google Colab\n",
    "## before moving to the next section."
   ]
  },
  {
   "cell_type": "markdown",
   "metadata": {},
   "source": [
    "***\n",
    "# <p style=\"font-family: Arial; font-size:1.4em;color:red;\"> 4. Logical Operators</p>\n",
    "\n",
    "<img src=\"https://p76.f0.n0.cdn.getcloudapp.com/items/nOu9XRmk/fddfa174-c3fd-4a15-815c-513e0d162889.jpg?v=1d8df7291331860f72b8eaf47140b26c\">\n"
   ]
  },
  {
   "cell_type": "markdown",
   "metadata": {},
   "source": [
    "#### <p style=\"font-family: Arial; font-size:1.4em; background-color: yellow; color:black;\"> Problem #4.1 </p>\n",
    "#### Check the score is valid. \n",
    "> The valid condition: score must be greager than 0 and less than or equal to 100\n"
   ]
  },
  {
   "cell_type": "code",
   "execution_count": null,
   "metadata": {},
   "outputs": [],
   "source": [
    "score = int(input(\"Enter your score\"))\n",
    "\n",
    "if ( score < 0 or score > 100):\n",
    "\tprint (\"Score is out of range\")\n",
    "\t"
   ]
  },
  {
   "cell_type": "code",
   "execution_count": null,
   "metadata": {},
   "outputs": [],
   "source": [
    "# Take the score\n",
    "# Check the scoer is between 0 and 100\n",
    "#  \n",
    "score = int(input(\"Enter your score\"))\n",
    "if score >= 0 and score <= 100:\n",
    "\tprint (score, \" is between 0 and 100 \")\n",
    "else:\n",
    "\tprint (score, \" is less than 0 or greater than 100\")"
   ]
  },
  {
   "cell_type": "markdown",
   "metadata": {},
   "source": [
    "#### <p style=\"font-family: Arial; font-size:1.4em; background-color: yellow; color:black;\"> Problem #4.2 </p>\n",
    "#### Make the if-elif statement to do the following actions in the table \n",
    "> Condition A: num1 > 0 <br>\n",
    "> Condition B: num2 > 0 <br>\n",
    "\n",
    "..    | Condition A True | Condition A False |\n",
    "---|---|---|\n",
    "Condition B True | print ('Two values are positive') | print ('num2 is positive') |\n",
    "Condition B False | print ('num1 is positive) | |\n"
   ]
  },
  {
   "cell_type": "code",
   "execution_count": null,
   "metadata": {},
   "outputs": [],
   "source": [
    "num1 = int(input('Enter the num1'))\n",
    "num2 = int(input('Enter the num2'))\n",
    "\n",
    "if num1 > 0 and num2 > 0:\n",
    "    print ('Two values are positive')\n",
    "elif # complete the code\n"
   ]
  },
  {
   "cell_type": "markdown",
   "metadata": {},
   "source": [
    "#### <p style=\"font-family: Arial; font-size:1.4em; background-color: yellow; color:black;\"> Problem #4.3 </p>\n",
    "#### Make the \"Nested if statement\" structure to do the following actions in the table \n",
    "> Condition A: num1 > 0 <br>\n",
    "> Condition B: num2 > 0 <br>\n",
    "\n",
    "..    | Condition A True | Condition A False |\n",
    "---|---|---|\n",
    "Condition B True | print ('Two values are positive') | print ('num2 is positive') |\n",
    "Condition B False | print ('num1 is positive) | |\n"
   ]
  },
  {
   "cell_type": "code",
   "execution_count": null,
   "metadata": {},
   "outputs": [],
   "source": [
    "num1 = int(input('Enter the num1'))\n",
    "num2 = int(input('Enter the num2'))\n",
    "\n",
    "if num1 > 0:\n",
    "    # complete the code\n",
    "else:\n",
    "    # complete the code"
   ]
  },
  {
   "cell_type": "markdown",
   "metadata": {},
   "source": [
    "#### <p style=\"font-family: Arial; font-size:1.4em; background-color: yellow; color:black;\"> Problem #4.4 </p>\n",
    "#### DeMorgen's Law\n",
    "#### <font color='red'> not ( A and B) = not A or not B </font>\n",
    "\n",
    "> Condition A: num1 > 0 <br>\n",
    "> Condition B: num2 > 0 <br>\n",
    "\n",
    "> not ( num1 > 0 and num2 > 0) <br>\n",
    "- is the same as <br>\n",
    "> not (num1 > 0) or not (num2 > 0) <br>\n",
    "- is the same as <br>\n",
    "> num1 <= 0 or num2 <= 0 <br>\n",
    "***\n",
    "#### Make the same if-statement using DeMorgen's Law <font color='red'> without \"not\" operator </font>\n",
    "\n",
    "> if not (num1 > 0 and num2 > 0):"
   ]
  },
  {
   "cell_type": "code",
   "execution_count": null,
   "metadata": {},
   "outputs": [],
   "source": [
    "num1 = -10\n",
    "num2 = 20\n",
    "\n",
    "if # complete your code\n",
    "    print ('One of two values are less than 0')\n"
   ]
  },
  {
   "cell_type": "markdown",
   "metadata": {},
   "source": [
    "#### <p style=\"font-family: Arial; font-size:1.4em; background-color: yellow; color:black;\"> Problem #4.5 </p>\n",
    "#### <font color='red'> number > 0 and number < 100  </font>\n",
    "- same as\n",
    "#### <font color='red'> 0 < number < 100 </font>\n",
    "\n",
    "#### Make the same if-statement without <font color='red'> \"and\" </font> operator \n",
    "\n",
    "> if num1 > 0 and num1 < 100: <br> \n",
    "***\n",
    "> 👉 <font color='red'> if 0 < num1 < 100: </font>"
   ]
  },
  {
   "cell_type": "code",
   "execution_count": null,
   "metadata": {},
   "outputs": [],
   "source": [
    "num1 = int(input('Enter a number'))\n",
    "\n",
    "if # complete the same condition without \"and\" operator as num1 > 0 and num1 < 100\n",
    "# if num1 > 0 and num1 < 100:\n",
    "    print ('num1 is greater than 0 and less than 100')"
   ]
  },
  {
   "cell_type": "markdown",
   "metadata": {},
   "source": [
    "#### <p style=\"font-family: Arial; font-size:1.4em; background-color: yellow; color:black;\"> Problem #4.6 </p>\n",
    "#### Complete the code to check the input number is greater than 50 and leass than 100 \n",
    "\n",
    "> 👉 <font color='red'> input value must be greater than 50 and less than 100 </font> <br>\n",
    "> if True, print it <br>\n",
    "> No requirement. What is your preference to make the if-condition?"
   ]
  },
  {
   "cell_type": "code",
   "execution_count": null,
   "metadata": {},
   "outputs": [],
   "source": [
    "number = int(input('Enter the number'))\n",
    "\n",
    "if # complete the code"
   ]
  },
  {
   "cell_type": "markdown",
   "metadata": {},
   "source": [
    "#### <p style=\"font-family: Arial; font-size:1.4em; background-color: yellow; color:black;\"> Problem #4.7 </p>\n",
    "#### Consider the following code. The if-condition is True or False?\n",
    "\n",
    "\n",
    "> 👉  What value of num will make the condition True?<br>\n",
    "```\n",
    "num = 50\n",
    "if num < 0 and num > 100:\n",
    "     print ('condition is True')\n",
    "``` \n",
    "#### What value of num' will make the condition True?\n"
   ]
  },
  {
   "cell_type": "code",
   "execution_count": null,
   "metadata": {},
   "outputs": [],
   "source": [
    "num = # set your value to num to make the conditino True\n",
    "\n",
    "if num < 0 and num > 100:\n",
    "    print ('Condition True')"
   ]
  },
  {
   "cell_type": "markdown",
   "metadata": {},
   "source": [
    "## Don't forget to <font color='red'> **\"commit\"** </font> your work or <font color='red'> **\"save\"** </font> in Google Colab\n",
    "## before moving to the next section."
   ]
  },
  {
   "cell_type": "markdown",
   "metadata": {},
   "source": [
    "***\n",
    "# <p style=\"font-family: Arial; font-size:1.4em;color:red;\"> 5. Short-hand if statement </p>"
   ]
  },
  {
   "cell_type": "markdown",
   "metadata": {},
   "source": [
    "#### <p style=\"font-family: Arial; font-size:1.4em; background-color: yellow; color:black;\"> Problem #5.1 </p>\n",
    "#### Run all the below cells and check out the results \n",
    "\n",
    "\n",
    "> 👉  What is the main adavantage of short-hand if statement? \n",
    "```\n",
    "num = 50\n",
    "flag = 1 if num > 0 else 0\n",
    "``` \n"
   ]
  },
  {
   "cell_type": "markdown",
   "metadata": {},
   "source": [
    "### Short Hand if"
   ]
  },
  {
   "cell_type": "code",
   "execution_count": null,
   "metadata": {},
   "outputs": [],
   "source": [
    "score1 = 100\n",
    "score2 = 90\n",
    "\n",
    "if ( score1 > score2): print( score1, \" is less than \", score2)"
   ]
  },
  {
   "cell_type": "markdown",
   "metadata": {},
   "source": [
    "### Short Hand if else\n",
    "\n",
    "```\n",
    "if num % 2 == 0:\n",
    "    even = 1\n",
    "else:\n",
    "    even = 0\n",
    "    \n",
    "> This code is the same as below"
   ]
  },
  {
   "cell_type": "code",
   "execution_count": null,
   "metadata": {},
   "outputs": [],
   "source": [
    "num  = 22\n",
    "even = 1 if num % 2 == 0 else 0\n",
    "even"
   ]
  },
  {
   "cell_type": "code",
   "execution_count": null,
   "metadata": {},
   "outputs": [],
   "source": [
    "print (score2, \" is greater than \", score1) if ( score1 < score2) else print(score1, \" is greater than\", score2)"
   ]
  },
  {
   "cell_type": "markdown",
   "metadata": {},
   "source": [
    "### The following code has error since there is no else part"
   ]
  },
  {
   "cell_type": "code",
   "execution_count": 12,
   "metadata": {},
   "outputs": [],
   "source": [
    "# Error\n",
    "# print (score2, \" is greater than \", score1) if ( score1 < score2)"
   ]
  },
  {
   "cell_type": "markdown",
   "metadata": {},
   "source": [
    "#### if val is even flag =0, otherwise 1"
   ]
  },
  {
   "cell_type": "code",
   "execution_count": 23,
   "metadata": {},
   "outputs": [
    {
     "name": "stdout",
     "output_type": "stream",
     "text": [
      "1\n"
     ]
    }
   ],
   "source": [
    "val = 11\n",
    "\n",
    "flag = 0 if val % 2 == 0 else 1\n",
    "print (flag)"
   ]
  },
  {
   "cell_type": "markdown",
   "metadata": {},
   "source": [
    "#### <p style=\"font-family: Arial; font-size:1.4em; background-color: yellow; color:black;\"> Problem #5.2 </p>\n",
    "#### Run all the below cells and check out the <font color='red'> results </font>\n",
    "\n",
    "\n",
    "> 👉  Check out the \"returned\" value from the conidtion \n",
    "```\n",
    "num > 0 and num < 200 and 99 \n",
    "``` \n"
   ]
  },
  {
   "cell_type": "markdown",
   "metadata": {},
   "source": [
    "#### And operator will return the last term if all the previous terms are True\n",
    "#### if the previous terms are not True, the first false term will be returned"
   ]
  },
  {
   "cell_type": "code",
   "execution_count": 32,
   "metadata": {},
   "outputs": [
    {
     "data": {
      "text/plain": [
       "False"
      ]
     },
     "execution_count": 32,
     "metadata": {},
     "output_type": "execute_result"
    }
   ],
   "source": [
    "True and False and True # will return False"
   ]
  },
  {
   "cell_type": "code",
   "execution_count": null,
   "metadata": {},
   "outputs": [],
   "source": [
    "True and True and True # will return True"
   ]
  },
  {
   "cell_type": "code",
   "execution_count": 37,
   "metadata": {},
   "outputs": [],
   "source": [
    "A = 10 ; B = 5; C = 0 \n",
    "\n",
    "A and B and C   # will return 0. It treated as False\n",
    "\n",
    "if A and B and C:\n",
    "    print(C)    # not printed since the condition is False"
   ]
  },
  {
   "cell_type": "code",
   "execution_count": 38,
   "metadata": {},
   "outputs": [
    {
     "data": {
      "text/plain": [
       "False"
      ]
     },
     "execution_count": 38,
     "metadata": {},
     "output_type": "execute_result"
    }
   ],
   "source": [
    "num1 = 10; num2 = 20; num3 = -5\n",
    "\n",
    "num1 == 10 and num2 < 100 and num3 > 0\n",
    "# will return false since the last condition is false    "
   ]
  },
  {
   "cell_type": "code",
   "execution_count": null,
   "metadata": {},
   "outputs": [],
   "source": [
    "num1 = 10; num2 = 20; \n",
    "\n",
    "num1 == 10 and num2 < 100 and 99 \n",
    "# will return 99 since all the conditions except the last one is True "
   ]
  },
  {
   "cell_type": "code",
   "execution_count": null,
   "metadata": {},
   "outputs": [],
   "source": [
    "num1 = 10; num2 = 20; \n",
    "\n",
    "num1 == 10 and num2 > 100 and 99 \n",
    "# will return False since the second condition is Fals"
   ]
  },
  {
   "cell_type": "code",
   "execution_count": null,
   "metadata": {},
   "outputs": [],
   "source": [
    "a = 10\n",
    "b = 5\n",
    "x = a > b \n",
    "print (x) # true\n",
    "x = a > b and 10 \n",
    "print (x) # 10 "
   ]
  },
  {
   "cell_type": "code",
   "execution_count": null,
   "metadata": {},
   "outputs": [],
   "source": [
    "a = 10\n",
    "b = 5\n",
    "x = a > b and 10 or 11\n",
    "print (x)"
   ]
  },
  {
   "cell_type": "code",
   "execution_count": null,
   "metadata": {},
   "outputs": [],
   "source": [
    "l1 = [1,2,3,4,5]\n",
    "\n",
    "even = [ i for i in l1 if i % 2 ==0]\n",
    "print (even)"
   ]
  },
  {
   "cell_type": "markdown",
   "metadata": {},
   "source": [
    "#### <p style=\"font-family: Arial; font-size:1.4em; background-color: yellow; color:black;\"> Problem #5.3 </p>\n",
    "#### Complete the code to set the flag variable to 0 if num is less than 0 otherwise set it to 1 \n",
    "\n",
    "> 👉 Use the short-hand if statement  \n",
    "```\n",
    "# the same if-statement \n",
    "if num < 0:\n",
    "    flag = 0\n",
    "else:\n",
    "    flag = 1\n",
    "``` \n"
   ]
  },
  {
   "cell_type": "code",
   "execution_count": 48,
   "metadata": {},
   "outputs": [],
   "source": [
    "num = int(input('Enter a num: '))\n",
    "\n",
    "flag = 0 # complete this code"
   ]
  },
  {
   "cell_type": "markdown",
   "metadata": {},
   "source": [
    "## Don't forget to <font color='red'> **\"commit\"** </font> your work or <font color='red'> **\"save\"** </font> in Google Colab\n",
    "## before moving to the next section."
   ]
  },
  {
   "cell_type": "markdown",
   "metadata": {},
   "source": [
    "***\n",
    "# <p style=\"font-family:Arial; font-size:1.4em;color:Red;\"> 6. Comparing Strings </p>\n"
   ]
  },
  {
   "cell_type": "markdown",
   "metadata": {},
   "source": [
    "#### <p style=\"font-family: Arial; font-size:1.4em; background-color: yellow; color:black;\"> Problem #6.1 </p>\n",
    "#### Run the following code cell and check out the result \n",
    "\n",
    "> 👉 String value comparison "
   ]
  },
  {
   "cell_type": "markdown",
   "metadata": {},
   "source": [
    "#### Alphabetical order comparison"
   ]
  },
  {
   "cell_type": "code",
   "execution_count": null,
   "metadata": {},
   "outputs": [],
   "source": [
    "name1 = 'Mary'\n",
    "name2 = 'Macy'\n",
    "\n",
    "if name1 < name2:\n",
    "\tprint (f'{name1}  is less than {name2}')\n",
    "else:\n",
    "\tprint (f'{name1}  is greater than or equal to {name2}')\n",
    "\t\n"
   ]
  },
  {
   "cell_type": "code",
   "execution_count": 49,
   "metadata": {},
   "outputs": [
    {
     "name": "stdout",
     "output_type": "stream",
     "text": [
      "Mary  is less than or equal to Nancy\n"
     ]
    }
   ],
   "source": [
    "name1 = \"Mary\"\n",
    "name2 = \"Nancy\"\n",
    "\n",
    "if (name1 > name2):\n",
    "\tprint (f'{name1}  is greater than {name2}')\n",
    "else:\n",
    "\tprint (f'{name1}  is less than or equal to {name2}')\n"
   ]
  },
  {
   "cell_type": "markdown",
   "metadata": {},
   "source": [
    "#### <p style=\"font-family: Arial; font-size:1.4em; background-color: yellow; color:black;\"> Problem #6.2 </p>\n",
    "#### Run the following code cell and check out the result \n",
    "\n",
    "> 👉 String value comparison \n",
    "\n",
    "#### String comparison by the \"length\""
   ]
  },
  {
   "cell_type": "code",
   "execution_count": null,
   "metadata": {},
   "outputs": [],
   "source": [
    "name1 = 'Mary'\n",
    "name2 = 'Mariella'\n",
    "\n",
    "if len(name1) < len(name2):\n",
    "\tprint (f'{name1}  is shorter than {name2}')\n",
    "else:\n",
    "\tprint (f'{name1}  is longer than or equal to {name2}')\n",
    "\t\n"
   ]
  },
  {
   "cell_type": "markdown",
   "metadata": {},
   "source": [
    "#### <p style=\"font-family: Arial; font-size:1.4em; background-color: yellow; color:black;\"> Problem #6.3 </p>\n",
    "#### Run the following code cell and check out the result \n",
    "\n",
    "> 👉 String Library functions  \n"
   ]
  },
  {
   "cell_type": "markdown",
   "metadata": {},
   "source": [
    "### String Library Functions\n",
    "<a href=\"https://docs.python.org/3/library/string.html\"> Python Documents for String </a>\n",
    "\n",
    "\n",
    "\n",
    "<a href=\"https://docs.python.org/3/library/stdtypes.html#string-methods\"> String Methods \n",
    "<br>\n",
    "</a>\n",
    "<a href=\"https://www.w3schools.com/python/python_ref_string.asp\"> W3 School </a>\n",
    "\n",
    "<img src=\"https://nimbus-screenshots.s3.amazonaws.com/s/4ac262e3ba568032f7992d4556be2443.png\">\n",
    "\n"
   ]
  },
  {
   "cell_type": "code",
   "execution_count": null,
   "metadata": {},
   "outputs": [],
   "source": [
    "'BANANA'.isupper()\n",
    "\n",
    "'banana'.isupper()\n",
    "\n",
    "'baNana'.isupper()\n",
    "\n",
    "' '.isupper()"
   ]
  },
  {
   "cell_type": "code",
   "execution_count": null,
   "metadata": {},
   "outputs": [],
   "source": [
    "\n",
    "'   spacious   '.lstrip()\n",
    "\n",
    "'www.example.com'.lstrip('cmowz.')\n",
    "\n",
    "'Arthur: three!'.lstrip('Arthur: ')\n",
    "\n",
    "'Arthur: three!'.removeprefix('Arthur: ')"
   ]
  },
  {
   "cell_type": "code",
   "execution_count": null,
   "metadata": {},
   "outputs": [],
   "source": [
    "email_str = \"name@company.com\"\n",
    "result1 = email_str.rstrip(\".com\" )\n",
    "result2 = email_str.lstrip(\"name@\")\n",
    "print (result1)\n",
    "print (result2)\n",
    "print (email_str)"
   ]
  },
  {
   "cell_type": "code",
   "execution_count": null,
   "metadata": {},
   "outputs": [],
   "source": [
    "email_str = \"name@company.com\"\n",
    "idx = email_str.find('@')\n",
    "print (idx)\n",
    "\n",
    "company_name = email_str[idx:len(email_str)]\n",
    "print (company_name)\n",
    "email_id = email_str[:idx]\n",
    "\n",
    "\n",
    "\n",
    "print (email_str[4:6])\n",
    "print (email_str[4:16])\n",
    "last_idx = len(email_str) \n",
    "print (email_str[4:last_idx])\n",
    "print (email_str[4:])\n"
   ]
  },
  {
   "cell_type": "code",
   "execution_count": null,
   "metadata": {},
   "outputs": [],
   "source": [
    "\n",
    "'   spacious   '.rstrip()\n",
    "\n",
    "'mississippi'.rstrip('ipz')\n",
    "\n",
    "'Monty Python'.rstrip(' Python')\n",
    "\n",
    "'Monty Python'.removesuffix(' Python')"
   ]
  },
  {
   "cell_type": "code",
   "execution_count": null,
   "metadata": {},
   "outputs": [],
   "source": [
    "\n",
    "\n",
    "'1,2,3'.split(',')\n",
    "\n",
    "'1,2,3'.split(',', maxsplit=1)\n",
    "\n",
    "'1,2,,3,'.split(',')\n",
    "\n",
    "'1 2 3'.split()\n",
    "\n",
    "'1 2 3'.split(maxsplit=1)\n",
    "\n",
    "'   1   2   3   '.split()\n",
    "\n",
    "'   spacious   '.strip()\n",
    "\n",
    "'www.example.com'.strip('cmowz.')\n",
    "\n"
   ]
  },
  {
   "cell_type": "code",
   "execution_count": null,
   "metadata": {},
   "outputs": [],
   "source": [
    "input_str = input('Enter two numbers')\n",
    "print (input_str)\n",
    "x,y = input_str.split() \n",
    "print (int(x))\n",
    "print (int(y))\n",
    "\n",
    "x,y = int(input('Enter two numbers').split())\n",
    "print (int(x))\n",
    "print (int(y))\n",
    "\n",
    "\n",
    "\n"
   ]
  },
  {
   "cell_type": "markdown",
   "metadata": {},
   "source": [
    "<a href=\"https://docs.python.org/3/library/string.html\">\n",
    "\n",
    "\n",
    "<img src=\"https://nimbus-screenshots.s3.amazonaws.com/s/ebc2ce4ebcd9fa90a90f988674b16c1f.png\">\n",
    "\n",
    "</a>"
   ]
  }
 ],
 "metadata": {
  "kernelspec": {
   "display_name": "base",
   "language": "python",
   "name": "python3"
  },
  "language_info": {
   "codemirror_mode": {
    "name": "ipython",
    "version": 3
   },
   "file_extension": ".py",
   "mimetype": "text/x-python",
   "name": "python",
   "nbconvert_exporter": "python",
   "pygments_lexer": "ipython3",
   "version": "3.12.4"
  },
  "orig_nbformat": 4,
  "vscode": {
   "interpreter": {
    "hash": "32cd87c0c55905266dc8232ebf1148f668af0d9324249c125246585210a29cd6"
   }
  }
 },
 "nbformat": 4,
 "nbformat_minor": 2
}
